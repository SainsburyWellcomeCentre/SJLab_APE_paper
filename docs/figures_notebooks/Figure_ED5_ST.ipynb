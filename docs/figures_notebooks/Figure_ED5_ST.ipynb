{
 "cells": [
  {
   "cell_type": "code",
   "execution_count": null,
   "id": "d10ea658-1c6c-4cec-b6d3-f0401870ed65",
   "metadata": {},
   "outputs": [],
   "source": []
  },
  {
   "cell_type": "code",
   "execution_count": 3,
   "id": "823decb0-44c2-4f89-803c-c451cdbed2fb",
   "metadata": {},
   "outputs": [
    {
     "name": "stderr",
     "output_type": "stream",
     "text": [
      "'rm' is not recognized as an internal or external command,\n",
      "operable program or batch file.\n"
     ]
    },
    {
     "name": "stdout",
     "output_type": "stream",
     "text": [
      "C:\\Users\\Yvonne\\Documents\\Hernando_APE_paper\\APE_paper\\docs\\figures_notebooks\\APE_paper\\docs\\figures_notebooks\n"
     ]
    },
    {
     "name": "stderr",
     "output_type": "stream",
     "text": [
      "Cloning into 'APE_paper'...\n",
      "C:\\Users\\Yvonne\\.conda\\envs\\HMV_environment\\lib\\site-packages\\IPython\\core\\magics\\osm.py:417: UserWarning: using dhist requires you to install the `pickleshare` library.\n",
      "  self.shell.db['dhist'] = compress_dhist(dhist)[-100:]\n"
     ]
    },
    {
     "name": "stdout",
     "output_type": "stream",
     "text": [
      "branch 'YvonneJohansson' set up to track 'origin/YvonneJohansson'.\n"
     ]
    },
    {
     "name": "stderr",
     "output_type": "stream",
     "text": [
      "Switched to a new branch 'YvonneJohansson'\n"
     ]
    }
   ],
   "source": [
    "# run this on Colab\n",
    "!rm -rf APE_paper/\n",
    "!git clone https://github.com/HernandoMV/APE_paper.git\n",
    "%cd APE_paper/docs/figures_notebooks\n",
    "!git checkout YvonneJohansson"
   ]
  },
  {
   "cell_type": "code",
   "execution_count": 1,
   "id": "89f3f7bd-6cc8-4e51-8cd5-84c6d53772c6",
   "metadata": {},
   "outputs": [],
   "source": [
    "%load_ext autoreload\n",
    "%autoreload 2\n",
    "import pandas as pd\n",
    "import urllib.request\n",
    "from os.path import exists\n",
    "import matplotlib.pylab as plt\n",
    "import numpy as np\n",
    "import pickle\n",
    "from scipy.signal import decimate\n",
    "\n",
    "import warnings\n",
    "warnings.filterwarnings('ignore')"
   ]
  },
  {
   "cell_type": "code",
   "execution_count": 2,
   "id": "b2dcf2f7-c99c-47ae-a09a-39ec0a197b61",
   "metadata": {},
   "outputs": [],
   "source": [
    "import sys\n",
    "import os\n",
    "sys.path.insert(1, os.path.dirname(os.path.dirname(os.path.abspath(os.curdir))))\n",
    "from scripts import YJ_analysis_utils as yj_utils\n",
    "from scripts import yj_plotting as yj_plot"
   ]
  },
  {
   "cell_type": "code",
   "execution_count": 20,
   "id": "c44541bd-ef94-44b9-a816-9e41a7f0d060",
   "metadata": {},
   "outputs": [
    {
     "name": "stdout",
     "output_type": "stream",
     "text": [
      "DataOverview already in directory\n"
     ]
    }
   ],
   "source": [
    "# # Extended Data 5S & 5T:\n",
    "\n",
    "# Get dataset information:\n",
    "dataset_name = 'DataOverview_ED5PQR.csv' # CORRECT TO NEW FIGURE NUMBER\n",
    "zenodo = \"https://zenodo.org/records/xxxxxxxxxxx/files/\"\n",
    "url = zenodo + dataset_name\n",
    "dataset_path = '../../data/' + dataset_name\n",
    "\n",
    "\n",
    "if not exists(dataset_path):\n",
    "    print('Downloading data...')\n",
    "    urllib.request.urlretrieve(url, dataset_path)\n",
    "else:\n",
    "    print('DataOverview already in directory')\n",
    "\n",
    "#print(dataset_path)\n",
    "info = pd.read_csv(dataset_path)"
   ]
  },
  {
   "cell_type": "code",
   "execution_count": 21,
   "id": "3610a601-04d8-40ab-873d-2773fd5ff5dc",
   "metadata": {},
   "outputs": [
    {
     "data": {
      "text/html": [
       "<div>\n",
       "<style scoped>\n",
       "    .dataframe tbody tr th:only-of-type {\n",
       "        vertical-align: middle;\n",
       "    }\n",
       "\n",
       "    .dataframe tbody tr th {\n",
       "        vertical-align: top;\n",
       "    }\n",
       "\n",
       "    .dataframe thead th {\n",
       "        text-align: right;\n",
       "    }\n",
       "</style>\n",
       "<table border=\"1\" class=\"dataframe\">\n",
       "  <thead>\n",
       "    <tr style=\"text-align: right;\">\n",
       "      <th></th>\n",
       "      <th>Unnamed: 0</th>\n",
       "      <th>AnimalID</th>\n",
       "      <th>Date</th>\n",
       "      <th>fiber_side</th>\n",
       "      <th>protocol1</th>\n",
       "    </tr>\n",
       "  </thead>\n",
       "  <tbody>\n",
       "    <tr>\n",
       "      <th>0</th>\n",
       "      <td>1</td>\n",
       "      <td>TS24</td>\n",
       "      <td>20230929</td>\n",
       "      <td>right</td>\n",
       "      <td>SOR</td>\n",
       "    </tr>\n",
       "    <tr>\n",
       "      <th>1</th>\n",
       "      <td>2</td>\n",
       "      <td>TS26</td>\n",
       "      <td>20230918</td>\n",
       "      <td>right</td>\n",
       "      <td>SOR</td>\n",
       "    </tr>\n",
       "    <tr>\n",
       "      <th>2</th>\n",
       "      <td>3</td>\n",
       "      <td>TS27</td>\n",
       "      <td>20231003</td>\n",
       "      <td>right</td>\n",
       "      <td>SOR</td>\n",
       "    </tr>\n",
       "    <tr>\n",
       "      <th>3</th>\n",
       "      <td>4</td>\n",
       "      <td>TS32</td>\n",
       "      <td>20231026</td>\n",
       "      <td>right</td>\n",
       "      <td>SOR</td>\n",
       "    </tr>\n",
       "    <tr>\n",
       "      <th>4</th>\n",
       "      <td>5</td>\n",
       "      <td>TS33</td>\n",
       "      <td>20231102</td>\n",
       "      <td>right</td>\n",
       "      <td>SOR</td>\n",
       "    </tr>\n",
       "    <tr>\n",
       "      <th>5</th>\n",
       "      <td>6</td>\n",
       "      <td>TS34</td>\n",
       "      <td>20231031</td>\n",
       "      <td>right</td>\n",
       "      <td>SOR</td>\n",
       "    </tr>\n",
       "  </tbody>\n",
       "</table>\n",
       "</div>"
      ],
      "text/plain": [
       "   Unnamed: 0 AnimalID      Date fiber_side protocol1\n",
       "0           1     TS24  20230929      right       SOR\n",
       "1           2     TS26  20230918      right       SOR\n",
       "2           3     TS27  20231003      right       SOR\n",
       "3           4     TS32  20231026      right       SOR\n",
       "4           5     TS33  20231102      right       SOR\n",
       "5           6     TS34  20231031      right       SOR"
      ]
     },
     "execution_count": 21,
     "metadata": {},
     "output_type": "execute_result"
    }
   ],
   "source": [
    "info"
   ]
  },
  {
   "cell_type": "code",
   "execution_count": 22,
   "id": "1825c1f3-88af-4766-b4f4-e8c0515c1712",
   "metadata": {},
   "outputs": [
    {
     "data": {
      "image/png": "[encoded data removed]",
      "text/plain": [
       "<Figure size 600x300 with 2 Axes>"
      ]
     },
     "metadata": {},
     "output_type": "display_data"
    }
   ],
   "source": [
    "all_group_data = {'SOR_return_cueON_contra': [], 'SOR_return_cueOFF_contra': [], 'SOR_return_cueON_ipsi': [], 'SOR_return_cueOFF_ipsi': []}\n",
    "\n",
    "APE_choice_peak_values = []\n",
    "return_contra_cue_on_values = []\n",
    "return_contra_cue_off_values = []\n",
    "return_ipsi_cue_on_values = []\n",
    "return_ipsi_cue_off_values = []\n",
    "\n",
    "for i, mouse in enumerate(info['AnimalID']):\n",
    "    date = str(info['Date'][i])\n",
    "    fiber_side = info['fiber_side'][i]\n",
    "    protocol = info['protocol1'][i]\n",
    "    dataset_names = []\n",
    "    nr_return_trials_cue_on = 0\n",
    "    nr_return_trials_cue_off = 0\n",
    "    CoT_trial_dataname = mouse + '_' + date + '_restructured_data.pkl'\n",
    "    CoT_photo_dataname = mouse + '_' + date + '_smoothed_signal.npy' \n",
    "    dataset_names.extend([CoT_photo_dataname,CoT_trial_dataname])\n",
    "    url = zenodo + dataset_name\n",
    "    for j, dataset_name in enumerate(dataset_names): \n",
    "        dataset_path = '../../data/' + dataset_name\n",
    "        if not exists(dataset_path):\n",
    "            print('Downloading ' + dataset_name)\n",
    "            urllib.request.urlretrieve(url, dataset_path)\n",
    "        #else:\n",
    "        #   print(dataset_name + ' already in directory')\n",
    "        \n",
    "        if j == 0:\n",
    "            photometry_data = np.load(dataset_path)  \n",
    "        if j == 1:  \n",
    "            trial_data = pd.read_pickle(dataset_path)\n",
    "            session_traces = yj_utils.SessionData(mouse, date, fiber_side, protocol, trial_data, photometry_data)\n",
    "\n",
    "    alignements = ['choice','SOR_return_cueON_contra','SOR_return_cueOFF_contra', 'SOR_return_cueON_ipsi', 'SOR_return_cueOFF_ipsi']\n",
    "    for a, alignement in enumerate(alignements):\n",
    "        if alignement == 'choice':\n",
    "            curr_data = session_traces.choice.contra_data\n",
    "        elif alignement == 'SOR_return_cueON_contra':\n",
    "            curr_data = session_traces.SOR_return_cueON.contra_data\n",
    "        elif alignement == 'SOR_return_cueOFF_contra':\n",
    "            curr_data = session_traces.SOR_return_cueOFF.contra_data\n",
    "        elif alignement == 'SOR_return_cueON_ipsi':\n",
    "            curr_data = session_traces.SOR_return_cueON.ipsi_data\n",
    "        elif alignement == 'SOR_return_cueOFF_ipsi':\n",
    "            curr_data = session_traces.SOR_return_cueOFF.ipsi_data\n",
    "\n",
    "        curr_data_mean = decimate(curr_data.mean_trace, 10) # data aligned to start of return movement\n",
    "\n",
    "        if alignement != 'choice':\n",
    "            # all return data is aligned to the start of return movement (=side port out)\n",
    "            # to align it to the return cue instead, which happens 20ms after side port out, it needs to be shifted: \n",
    "            t1 = np.pad(curr_data_mean, (0, 20))  # pad with 20 zeros (20ms with 10Hz sampling = 200, however decimate 10 above, hence only 20 datapoints)\n",
    "            t2 = t1[20:]\n",
    "            curr_data_mean = t2\n",
    "            all_group_data[alignement].append(curr_data_mean)\n",
    "\n",
    "        curr_data_time = decimate(curr_data.time_points, 10)\n",
    "        curr_data_traces = decimate(curr_data.sorted_traces, 10)\n",
    "        \n",
    "\n",
    "        if alignement == 'choice':\n",
    "            # extract how long it takes on average to the peak movement signal in a classic contra trial (center --> side port)\n",
    "            start_inx = 8000\n",
    "            APE_choice_time_range = curr_data_time[start_inx:start_inx + 8000]\n",
    "            APE_choice_peak_index = np.argmax(curr_data_mean[start_inx:start_inx + 8000])\n",
    "            \n",
    "        # extract movement after the same time interval in the return trials: \n",
    "        amplitude = curr_data_mean[start_inx + APE_choice_peak_index]\n",
    "            \n",
    "        \n",
    "        if alignement == 'SOR_return_cueON_contra':\n",
    "            nr_return_trials_cue_on = nr_return_trials_cue_on + curr_data_traces.shape[0]\n",
    "            return_contra_cue_on_values.append(amplitude)\n",
    "        elif alignement == 'SOR_return_cueOFF_contra':\n",
    "            nr_return_trials_cue_off = nr_return_trials_cue_off + curr_data_traces.shape[0]\n",
    "            return_contra_cue_off_values.append(amplitude)\n",
    "        elif alignement == 'SOR_return_cueON_ipsi':    \n",
    "            nr_return_trials_cue_on = nr_return_trials_cue_on + curr_data_traces.shape[0]\n",
    "            return_ipsi_cue_on_values.append(amplitude)\n",
    "        elif alignement == 'SOR_return_cueOFF_ipsi':\n",
    "            nr_return_trials_cue_off = nr_return_trials_cue_off + curr_data_traces.shape[0]\n",
    "            return_ipsi_cue_off_values.append(amplitude)\n",
    "        \n",
    "    #print(f\"Return trials: {nr_return_trials_cue_on:.0f} cue on, {nr_return_trials_cue_off:.0f} cue off, total cue on % : {(nr_return_trials_cue_on*100 / (nr_return_trials_cue_on + nr_return_trials_cue_off)):.2f}\")\n",
    "        \n",
    "\n",
    "figure = yj_plot.plot_ED5ST(all_group_data, curr_data_time, return_contra_cue_on_values, return_contra_cue_off_values, return_ipsi_cue_on_values, return_ipsi_cue_off_values,'EarlyTraining')\n",
    "\n",
    "# uncomment here to save the plot\n",
    "dataset_path = '../../data/'\n",
    "plt.savefig(dataset_path + 'ED5ST_EarlyTraining.png',\n",
    "            transparent=True, bbox_inches='tight')         "
   ]
  },
  {
   "cell_type": "code",
   "execution_count": 23,
   "id": "723b8617-d9fe-4422-a7be-4bc9581e29dc",
   "metadata": {},
   "outputs": [
    {
     "name": "stdout",
     "output_type": "stream",
     "text": [
      "DataOverview already in directory\n"
     ]
    }
   ],
   "source": [
    "# # Extended Data 5S & 5T:\n",
    "\n",
    "# Get dataset information:\n",
    "dataset_name = 'DataOverview_ED5ST_FirstCueSession.csv' # CORRECT TO NEW FIGURE NUMBER\n",
    "zenodo = \"https://zenodo.org/records/xxxxxxxxxxx/files/\"\n",
    "url = zenodo + dataset_name\n",
    "dataset_path = '../../data/' + dataset_name\n",
    "\n",
    "if not exists(dataset_path):\n",
    "    print('Downloading data...')\n",
    "    urllib.request.urlretrieve(url, dataset_path)\n",
    "else:\n",
    "    print('DataOverview already in directory')\n",
    "\n",
    "#print(dataset_path)\n",
    "info = pd.read_csv(dataset_path)"
   ]
  },
  {
   "cell_type": "code",
   "execution_count": 24,
   "id": "30c2ea33-0dc3-4bbc-835f-d11c9605342c",
   "metadata": {},
   "outputs": [
    {
     "data": {
      "text/html": [
       "<div>\n",
       "<style scoped>\n",
       "    .dataframe tbody tr th:only-of-type {\n",
       "        vertical-align: middle;\n",
       "    }\n",
       "\n",
       "    .dataframe tbody tr th {\n",
       "        vertical-align: top;\n",
       "    }\n",
       "\n",
       "    .dataframe thead th {\n",
       "        text-align: right;\n",
       "    }\n",
       "</style>\n",
       "<table border=\"1\" class=\"dataframe\">\n",
       "  <thead>\n",
       "    <tr style=\"text-align: right;\">\n",
       "      <th></th>\n",
       "      <th>Unnamed: 0</th>\n",
       "      <th>AnimalID</th>\n",
       "      <th>Date</th>\n",
       "      <th>fiber_side</th>\n",
       "      <th>protocol1</th>\n",
       "    </tr>\n",
       "  </thead>\n",
       "  <tbody>\n",
       "    <tr>\n",
       "      <th>0</th>\n",
       "      <td>4</td>\n",
       "      <td>TS32</td>\n",
       "      <td>20231026</td>\n",
       "      <td>right</td>\n",
       "      <td>SOR</td>\n",
       "    </tr>\n",
       "    <tr>\n",
       "      <th>1</th>\n",
       "      <td>5</td>\n",
       "      <td>TS33</td>\n",
       "      <td>20231026</td>\n",
       "      <td>right</td>\n",
       "      <td>SOR</td>\n",
       "    </tr>\n",
       "    <tr>\n",
       "      <th>2</th>\n",
       "      <td>6</td>\n",
       "      <td>TS34</td>\n",
       "      <td>20231026</td>\n",
       "      <td>right</td>\n",
       "      <td>SOR</td>\n",
       "    </tr>\n",
       "  </tbody>\n",
       "</table>\n",
       "</div>"
      ],
      "text/plain": [
       "   Unnamed: 0 AnimalID      Date fiber_side protocol1\n",
       "0           4     TS32  20231026      right       SOR\n",
       "1           5     TS33  20231026      right       SOR\n",
       "2           6     TS34  20231026      right       SOR"
      ]
     },
     "execution_count": 24,
     "metadata": {},
     "output_type": "execute_result"
    }
   ],
   "source": [
    "info"
   ]
  },
  {
   "cell_type": "code",
   "execution_count": 25,
   "id": "dd37786d-3e7f-4eac-b502-141ed3dcf0d8",
   "metadata": {},
   "outputs": [
    {
     "data": {
      "image/png": "[encoded data removed]",
      "text/plain": [
       "<Figure size 600x300 with 2 Axes>"
      ]
     },
     "metadata": {},
     "output_type": "display_data"
    }
   ],
   "source": [
    "all_group_data = {'SOR_return_cueON_contra': [], 'SOR_return_cueOFF_contra': [], 'SOR_return_cueON_ipsi': [], 'SOR_return_cueOFF_ipsi': []}\n",
    "\n",
    "APE_choice_peak_values = []\n",
    "return_contra_cue_on_values = []\n",
    "return_contra_cue_off_values = []\n",
    "return_ipsi_cue_on_values = []\n",
    "return_ipsi_cue_off_values = []\n",
    "\n",
    "for i, mouse in enumerate(info['AnimalID']):\n",
    "    date = str(info['Date'][i])\n",
    "    fiber_side = info['fiber_side'][i]\n",
    "    protocol = info['protocol1'][i]\n",
    "    dataset_names = []\n",
    "    nr_return_trials_cue_on = 0\n",
    "    nr_return_trials_cue_off = 0\n",
    "    CoT_trial_dataname = mouse + '_' + date + '_restructured_data.pkl'\n",
    "    CoT_photo_dataname = mouse + '_' + date + '_smoothed_signal.npy' \n",
    "    dataset_names.extend([CoT_photo_dataname,CoT_trial_dataname])\n",
    "    url = zenodo + dataset_name\n",
    "    for j, dataset_name in enumerate(dataset_names): \n",
    "        dataset_path = '../../data/' + dataset_name\n",
    "        if not exists(dataset_path):\n",
    "            print('Downloading ' + dataset_name)\n",
    "            urllib.request.urlretrieve(url, dataset_path)\n",
    "        #else:\n",
    "        #   print(dataset_name + ' already in directory')\n",
    "        \n",
    "        if j == 0:\n",
    "            photometry_data = np.load(dataset_path)  \n",
    "        if j == 1:  \n",
    "            trial_data = pd.read_pickle(dataset_path)\n",
    "            session_traces = yj_utils.SessionData(mouse, date, fiber_side, protocol, trial_data, photometry_data)\n",
    "\n",
    "    alignements = ['choice','SOR_return_cueON_contra','SOR_return_cueOFF_contra', 'SOR_return_cueON_ipsi', 'SOR_return_cueOFF_ipsi']\n",
    "    for a, alignement in enumerate(alignements):\n",
    "        if alignement == 'choice':\n",
    "            curr_data = session_traces.choice.contra_data\n",
    "        elif alignement == 'SOR_return_cueON_contra':\n",
    "            curr_data = session_traces.SOR_return_cueON.contra_data\n",
    "        elif alignement == 'SOR_return_cueOFF_contra':\n",
    "            curr_data = session_traces.SOR_return_cueOFF.contra_data\n",
    "        elif alignement == 'SOR_return_cueON_ipsi':\n",
    "            curr_data = session_traces.SOR_return_cueON.ipsi_data\n",
    "        elif alignement == 'SOR_return_cueOFF_ipsi':\n",
    "            curr_data = session_traces.SOR_return_cueOFF.ipsi_data\n",
    "\n",
    "        curr_data_mean = decimate(curr_data.mean_trace, 10) # data aligned to start of return movement\n",
    "\n",
    "        if alignement != 'choice':\n",
    "            # all return data is aligned to the start of return movement (=side port out)\n",
    "            # to align it to the return cue instead, which happens 20ms after side port out, it needs to be shifted: \n",
    "            t1 = np.pad(curr_data_mean, (0, 20))  # pad with 20 zeros (20ms with 10Hz sampling = 200, however decimate 10 above, hence only 20 datapoints)\n",
    "            t2 = t1[20:]\n",
    "            curr_data_mean = t2\n",
    "            all_group_data[alignement].append(curr_data_mean)\n",
    "\n",
    "        curr_data_time = decimate(curr_data.time_points, 10)\n",
    "        curr_data_traces = decimate(curr_data.sorted_traces, 10)\n",
    "        \n",
    "\n",
    "        if alignement == 'choice':\n",
    "            # extract how long it takes on average to the peak movement signal in a classic contra trial (center --> side port)\n",
    "            start_inx = 8000\n",
    "            APE_choice_time_range = curr_data_time[start_inx:start_inx + 8000]\n",
    "            APE_choice_peak_index = np.argmax(curr_data_mean[start_inx:start_inx + 8000])\n",
    "        # extract movement after the same time interval in the return trials: \n",
    "        amplitude = curr_data_mean[start_inx + APE_choice_peak_index]\n",
    "        \n",
    "        if alignement == 'SOR_return_cueON_contra':\n",
    "            nr_return_trials_cue_on = nr_return_trials_cue_on + curr_data_traces.shape[0]\n",
    "            return_contra_cue_on_values.append(amplitude)\n",
    "        elif alignement == 'SOR_return_cueOFF_contra':\n",
    "            nr_return_trials_cue_off = nr_return_trials_cue_off + curr_data_traces.shape[0]\n",
    "            return_contra_cue_off_values.append(amplitude)\n",
    "        elif alignement == 'SOR_return_cueON_ipsi':    \n",
    "            nr_return_trials_cue_on = nr_return_trials_cue_on + curr_data_traces.shape[0]\n",
    "            return_ipsi_cue_on_values.append(amplitude)\n",
    "        elif alignement == 'SOR_return_cueOFF_ipsi':\n",
    "            nr_return_trials_cue_off = nr_return_trials_cue_off + curr_data_traces.shape[0]\n",
    "            return_ipsi_cue_off_values.append(amplitude)\n",
    "        \n",
    "    #print(f\"Return trials: {nr_return_trials_cue_on:.0f} cue on, {nr_return_trials_cue_off:.0f} cue off, total cue on % : {(nr_return_trials_cue_on*100 / (nr_return_trials_cue_on + nr_return_trials_cue_off)):.2f}\")\n",
    "        \n",
    "\n",
    "figure = yj_plot.plot_ED5ST(all_group_data, curr_data_time, return_contra_cue_on_values, return_contra_cue_off_values, return_ipsi_cue_on_values, return_ipsi_cue_off_values, 'FirstCueSession')\n",
    "\n",
    "# uncomment here to save the plot\n",
    "dataset_path = '../../data/'\n",
    "plt.savefig(dataset_path + 'ED5T_1stCueSession.png',\n",
    "            transparent=True, bbox_inches='tight')"
   ]
  },
  {
   "cell_type": "code",
   "execution_count": null,
   "id": "ccf112a0-528a-461d-8a0c-7ac31597faee",
   "metadata": {},
   "outputs": [],
   "source": []
  }
 ],
 "metadata": {
  "kernelspec": {
   "display_name": "Python 3 (ipykernel)",
   "language": "python",
   "name": "python3"
  },
  "language_info": {
   "codemirror_mode": {
    "name": "ipython",
    "version": 3
   },
   "file_extension": ".py",
   "mimetype": "text/x-python",
   "name": "python",
   "nbconvert_exporter": "python",
   "pygments_lexer": "ipython3",
   "version": "3.9.18"
  }
 },
 "nbformat": 4,
 "nbformat_minor": 5
}
