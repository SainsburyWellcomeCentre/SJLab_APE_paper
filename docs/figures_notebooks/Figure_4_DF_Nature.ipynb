{
 "cells": [
  {
   "cell_type": "code",
   "execution_count": null,
   "metadata": {
    "id": "AZCKnl2agmsp"
   },
   "outputs": [],
   "source": [
    "# This notebook performs a statistical analysis of mice doing the cloud of tones task\n",
    "# stimulating the dopamine release in the tail of the striatum"
   ]
  },
  {
   "cell_type": "code",
   "execution_count": null,
   "metadata": {
    "colab": {
     "base_uri": "https://localhost:8080/"
    },
    "executionInfo": {
     "elapsed": 21874,
     "status": "ok",
     "timestamp": 1734674615958,
     "user": {
      "displayName": "Hernando Martínez",
      "userId": "01161521225148032839"
     },
     "user_tz": -60
    },
    "id": "dQsrtTHYgmss",
    "outputId": "911fa334-23a2-406e-85da-e8bcdbba90c0"
   },
   "outputs": [],
   "source": [
    "# run this on Colab\n",
    "!rm -rf APE_paper/\n",
    "!git clone https://github.com/HernandoMV/APE_paper.git\n",
    "%pip install mouse-behavior-analysis-tools\n",
    "%cd APE_paper/docs/figures_notebooks"
   ]
  },
  {
   "cell_type": "code",
   "execution_count": 14,
   "metadata": {
    "executionInfo": {
     "elapsed": 6807,
     "status": "ok",
     "timestamp": 1734674622760,
     "user": {
      "displayName": "Hernando Martínez",
      "userId": "01161521225148032839"
     },
     "user_tz": -60
    },
    "id": "_9i6L1Yfgmst"
   },
   "outputs": [
    {
     "name": "stdout",
     "output_type": "stream",
     "text": [
      "The autoreload extension is already loaded. To reload it, use:\n",
      "  %reload_ext autoreload\n"
     ]
    }
   ],
   "source": [
    "%load_ext autoreload\n",
    "%autoreload 2\n",
    "import numpy as np\n",
    "import pandas as pd\n",
    "from os.path import exists\n",
    "import urllib.request\n",
    "import matplotlib.pylab as plt\n",
    "import warnings\n",
    "from ast import literal_eval\n",
    "from math import e\n",
    "import seaborn as sns\n",
    "from scipy import stats\n",
    "\n",
    "from mouse_behavior_analysis_tools.utils import custom_functions as cuf\n",
    "from mouse_behavior_analysis_tools.utils.misc_utils import update_progress\n",
    "from mouse_behavior_analysis_tools.plot import make_figures\n",
    "warnings.filterwarnings('ignore')"
   ]
  },
  {
   "cell_type": "code",
   "execution_count": 2,
   "metadata": {
    "colab": {
     "base_uri": "https://localhost:8080/"
    },
    "executionInfo": {
     "elapsed": 10803,
     "status": "ok",
     "timestamp": 1734674633560,
     "user": {
      "displayName": "Hernando Martínez",
      "userId": "01161521225148032839"
     },
     "user_tz": -60
    },
    "id": "sg7ubnqHgmst",
    "outputId": "18ff2239-54d0-45c0-abb3-371429329e69"
   },
   "outputs": [
    {
     "name": "stdout",
     "output_type": "stream",
     "text": [
      "Data already in directory\n"
     ]
    }
   ],
   "source": [
    "# download data from server\n",
    "dataset_name = 'DA-optostimulation_dataframe.csv'\n",
    "url = \"https://zenodo.org/record/7261639/files/\" + dataset_name\n",
    "dataset_path = '../../data/' + dataset_name\n",
    "# download if data is not there\n",
    "if not exists(dataset_path):\n",
    "    print('Downloading data...')\n",
    "    urllib.request.urlretrieve(url, dataset_path)\n",
    "else:\n",
    "    print('Data already in directory')\n",
    "# load\n",
    "dao_df = pd.read_csv(dataset_path, index_col=0)"
   ]
  },
  {
   "cell_type": "code",
   "execution_count": 3,
   "metadata": {
    "executionInfo": {
     "elapsed": 19647,
     "status": "ok",
     "timestamp": 1734674653204,
     "user": {
      "displayName": "Hernando Martínez",
      "userId": "01161521225148032839"
     },
     "user_tz": -60
    },
    "id": "rBhmLbhUgmsu"
   },
   "outputs": [],
   "source": [
    "# reconvert column to a diccionary\n",
    "dao_df['FullGUI'] = [literal_eval(x) for x in dao_df.FullGUI]"
   ]
  },
  {
   "cell_type": "code",
   "execution_count": 4,
   "metadata": {
    "executionInfo": {
     "elapsed": 8,
     "status": "ok",
     "timestamp": 1734674653205,
     "user": {
      "displayName": "Hernando Martínez",
      "userId": "01161521225148032839"
     },
     "user_tz": -60
    },
    "id": "u6uV-fSogmsv"
   },
   "outputs": [],
   "source": [
    "# Select how to group trial numbers to compare\n",
    "ini_trials = 150 # initial trials without stimulation\n",
    "ao_trials = 151 # trials without stimulation, after some sampling"
   ]
  },
  {
   "cell_type": "code",
   "execution_count": 5,
   "metadata": {
    "executionInfo": {
     "elapsed": 7,
     "status": "ok",
     "timestamp": 1734674653205,
     "user": {
      "displayName": "Hernando Martínez",
      "userId": "01161521225148032839"
     },
     "user_tz": -60
    },
    "id": "W4cxPqMmdMHR"
   },
   "outputs": [],
   "source": [
    "def get_dopamine_optostimulation_differences_dataframe(\n",
    "    dao_df, ini_trials, ao_trials, n_times\n",
    "):\n",
    "    # Generate another dataset for every session containing information\n",
    "    # about the difference between\n",
    "    # the optostimulated trials and the normal ones,\n",
    "    # as well as random differences, calculated\n",
    "    # shuffling the trial indexes\n",
    "    BRS = [\"tStr\", \"NAc\"]\n",
    "    PS = [\"Left\", \"Right\"]\n",
    "    PI = [\"Center\", \"Side\"]\n",
    "    CondList = [\n",
    "        (dao_df[\"TrialIndex\"] < ini_trials),\n",
    "        (dao_df[\"TrialIndex\"] > ao_trials),\n",
    "    ]\n",
    "\n",
    "    cols = [\n",
    "        \"AnimalID\",\n",
    "        \"SessionID\",\n",
    "        \"Ntrials\",\n",
    "        \"Protocol\",\n",
    "        \"Stim\",\n",
    "        \"FiberSide\",\n",
    "        \"FiberArea\",\n",
    "        \"StimSide\",\n",
    "        \"StimPort\",\n",
    "        \"Contralateral\",\n",
    "        \"InitialBias\",\n",
    "        \"Bias\",\n",
    "        \"BiasToStimPort\",\n",
    "        \"RandomBiases\",\n",
    "        \"RandomBiasMean\",\n",
    "        \"RandomBiasStd\",\n",
    "        \"bias_to_stim_port_cong\",\n",
    "        \"bias_to_stim_port_incong\",\n",
    "    ]\n",
    "    data = np.empty(\n",
    "        [len(pd.unique(dao_df[\"SessionID\"])), len(cols)], dtype=object\n",
    "    )\n",
    "\n",
    "    for i, sessionid in enumerate(pd.unique(dao_df[\"SessionID\"])):\n",
    "        # get dataframe of the session\n",
    "        session_df = dao_df[dao_df[\"SessionID\"] == sessionid].copy()\n",
    "        # get animal name\n",
    "        animalid = session_df.AnimalID.unique()[0]\n",
    "        # get number of trials\n",
    "        ntrials = session_df.shape[0]\n",
    "        # protocol\n",
    "        protocol = session_df.Protocol.unique()[0]\n",
    "        # is it a stimulated session?\n",
    "        stim = session_df.Stimulation.unique()[0] != \"NoStimulation\"\n",
    "        # which fiber was plugged in\n",
    "        fiberside = session_df.Stimulation.unique()[0]\n",
    "        # which brain area is this fiber over\n",
    "        fiberarea = BRS[int(session_df.iloc[0].FullGUI[\"FiberLocation\"]) - 1]\n",
    "        # which one of the side ports, or trial type, was stimulated\n",
    "        stimside = PS[int(session_df.iloc[0].FullGUI[\"JOPSide\"]) - 1]\n",
    "        # in which one of the ports did stimulation occurred\n",
    "        stimport = PI[int(session_df.iloc[0].FullGUI[\"OptoState\"]) - 1]\n",
    "        # is the fiber contralateral to the port\n",
    "        contralateral = True\n",
    "        if (fiberside == stimside) or fiberside == \"Both\":\n",
    "            contralateral = False\n",
    "        # what is the initial bias of the mouse in trials before stimulation\n",
    "        ini_sess = session_df[session_df.TrialIndex < ini_trials].copy()\n",
    "        initialbias = np.mean(\n",
    "            cuf.get_choices(ini_sess[\"FirstPoke\"], ini_sess[\"TrialHighPerc\"])[1]\n",
    "        )\n",
    "\n",
    "        # what is the total bias of that session after opto\n",
    "        bias = cuf.get_general_right_bias(\n",
    "            session_df[CondList[1]], session_df[CondList[0]]\n",
    "        )\n",
    "        # is this bias positive towards the stimulated port?\n",
    "        if stimside == \"Right\":\n",
    "            biastostimport = bias\n",
    "        if stimside == \"Left\":\n",
    "            biastostimport = -bias\n",
    "\n",
    "        # make a distinction here about the left trials the right trials\n",
    "        df_left = session_df[session_df.TrialSide == 1]\n",
    "        df_right = session_df[session_df.TrialSide == 2]\n",
    "\n",
    "        bias_of_left = cuf.get_general_right_bias(\n",
    "            df_left[CondList[1]], df_left[CondList[0]]\n",
    "        )\n",
    "        bias_of_right = cuf.get_general_right_bias(\n",
    "            df_right[CondList[1]], df_right[CondList[0]]\n",
    "        )\n",
    "        # define bias to stim port\n",
    "        if stimside == \"Right\":\n",
    "            bias_to_stim_port_incong = bias_of_left\n",
    "            bias_to_stim_port_cong = bias_of_right\n",
    "        if stimside == \"Left\":\n",
    "            bias_to_stim_port_cong = -bias_of_left\n",
    "            bias_to_stim_port_incong = -bias_of_right\n",
    "\n",
    "        # calculate random biases\n",
    "        randombiases = cuf.get_random_biases(\n",
    "            session_df, n_times, ini_trials, ao_trials\n",
    "        )\n",
    "        # random mean\n",
    "        randombiasmean = np.mean(randombiases)\n",
    "        # random std\n",
    "        randombiasstd = np.std(randombiases)\n",
    "\n",
    "        # fill\n",
    "        data[i] = [\n",
    "            animalid,\n",
    "            sessionid,\n",
    "            ntrials,\n",
    "            protocol,\n",
    "            stim,\n",
    "            fiberside,\n",
    "            fiberarea,\n",
    "            stimside,\n",
    "            stimport,\n",
    "            contralateral,\n",
    "            initialbias,\n",
    "            bias,\n",
    "            biastostimport,\n",
    "            randombiases,\n",
    "            randombiasmean,\n",
    "            randombiasstd,\n",
    "            bias_to_stim_port_cong,\n",
    "            bias_to_stim_port_incong,\n",
    "        ]\n",
    "\n",
    "        update_progress(i / len(pd.unique(dao_df[\"SessionID\"])))\n",
    "\n",
    "    # create dataframe\n",
    "    opto_df = pd.DataFrame(data, columns=cols)\n",
    "    update_progress(1)\n",
    "\n",
    "    return opto_df\n"
   ]
  },
  {
   "cell_type": "code",
   "execution_count": null,
   "metadata": {
    "colab": {
     "base_uri": "https://localhost:8080/"
    },
    "executionInfo": {
     "elapsed": 264838,
     "status": "ok",
     "timestamp": 1734674918038,
     "user": {
      "displayName": "Hernando Martínez",
      "userId": "01161521225148032839"
     },
     "user_tz": -60
    },
    "id": "GEA_yFVjgmsx",
    "outputId": "dfc5b5b5-ff18-4597-e871-7208f2db3dad"
   },
   "outputs": [
    {
     "name": "stdout",
     "output_type": "stream",
     "text": [
      " - Progress: [####################] 100.0%\n"
     ]
    }
   ],
   "source": [
    "# Generate another dataset for every session containing information about the difference between\n",
    "# the optostimulated trials and the normal ones, as well as random differences, calculated\n",
    "# shuffling the trial indexes\n",
    "n_times = 1000 # number of shuffles\n",
    "opto_df = get_dopamine_optostimulation_differences_dataframe(dao_df, ini_trials,\n",
    "                                                                 ao_trials, n_times)"
   ]
  },
  {
   "cell_type": "code",
   "execution_count": 7,
   "metadata": {
    "executionInfo": {
     "elapsed": 253,
     "status": "ok",
     "timestamp": 1734674937447,
     "user": {
      "displayName": "Hernando Martínez",
      "userId": "01161521225148032839"
     },
     "user_tz": -60
    },
    "id": "xZjqKCfagmsy"
   },
   "outputs": [],
   "source": [
    "# remove NAc DAopto-03 as the fibers are not correctly placed DV\n",
    "idx_to_remove = opto_df[np.logical_and(opto_df.AnimalID=='DAopto-03',\n",
    "                                       opto_df.FiberArea=='NAc')].index\n",
    "\n",
    "opto_df.drop(idx_to_remove, inplace=True)"
   ]
  },
  {
   "cell_type": "code",
   "execution_count": 8,
   "metadata": {
    "executionInfo": {
     "elapsed": 284,
     "status": "ok",
     "timestamp": 1734674938019,
     "user": {
      "displayName": "Hernando Martínez",
      "userId": "01161521225148032839"
     },
     "user_tz": -60
    },
    "id": "vfYYob0ggmsy"
   },
   "outputs": [],
   "source": [
    "# remove tStr DAopto-05 L as the fiber is a bit anterior\n",
    "idx_to_remove = opto_df[np.logical_and(np.logical_and(opto_df.AnimalID=='DAopto-05',\n",
    "                                                      opto_df.FiberArea=='tStr'),\n",
    "                                       opto_df.FiberSide=='Left')].index\n",
    "\n",
    "opto_df.drop(idx_to_remove, inplace=True)"
   ]
  },
  {
   "cell_type": "code",
   "execution_count": 9,
   "metadata": {
    "executionInfo": {
     "elapsed": 217,
     "status": "ok",
     "timestamp": 1734676161118,
     "user": {
      "displayName": "Hernando Martínez",
      "userId": "01161521225148032839"
     },
     "user_tz": -60
    },
    "id": "1DOSpEDngmsy"
   },
   "outputs": [],
   "source": [
    "# Subselect the dataframe based on some conditions\n",
    "#### conditions\n",
    "# remove sessions in which initially the mouse is very bias\n",
    "extreme_ini_bias = 100/3\n",
    "conditions = opto_df.Protocol.isin(['Aud_Psycho', 'Auditory'])\n",
    "conditions = np.logical_and(conditions, extreme_ini_bias < opto_df.InitialBias)\n",
    "conditions = np.logical_and(conditions, (100 - extreme_ini_bias) > opto_df.InitialBias)\n",
    "# select those sessions for which the stimulation happens in contralateral trials\n",
    "# this emulates the physiological conditions\n",
    "conditions = np.logical_and(conditions, opto_df.Contralateral==True)\n",
    "# select those sessions in which the stimulation happens when the animal is in the cent port\n",
    "# this tests for state-action associations\n",
    "conditions = np.logical_and(conditions, opto_df.StimPort=='Center')\n",
    "\n",
    "opto_df_sel = opto_df[conditions].copy()"
   ]
  },
  {
   "cell_type": "code",
   "execution_count": 10,
   "metadata": {
    "executionInfo": {
     "elapsed": 286,
     "status": "ok",
     "timestamp": 1734676163657,
     "user": {
      "displayName": "Hernando Martínez",
      "userId": "01161521225148032839"
     },
     "user_tz": -60
    },
    "id": "C52WHhtvzGsn"
   },
   "outputs": [],
   "source": [
    "def find_indexes_of_repeated_cases(opto_df_sel, same_columns):\n",
    "    # Find indexes of repeated cases\n",
    "    equal_indexes = []\n",
    "\n",
    "    for index in opto_df_sel.index:\n",
    "        data = opto_df_sel.loc[index][same_columns].values\n",
    "        i_list = []\n",
    "        for i in opto_df_sel.index:\n",
    "            if np.array_equal(data, opto_df_sel.loc[i][same_columns].values):\n",
    "                i_list.append(i)\n",
    "        if len(i_list) > 1:\n",
    "            if i_list not in equal_indexes:\n",
    "                equal_indexes.append(i_list)\n",
    "\n",
    "    return equal_indexes\n",
    "\n",
    "def merge_repeated_cases_for_dopamine_optostimulation(opto_df_sel):\n",
    "\n",
    "    # Find indexes of repeated cases\n",
    "    same_columns = [\n",
    "        \"AnimalID\",\n",
    "        \"FiberSide\",\n",
    "        \"FiberArea\",\n",
    "        \"StimSide\",\n",
    "        \"StimPort\",\n",
    "    ]\n",
    "    equal_indexes = find_indexes_of_repeated_cases(opto_df_sel, same_columns)\n",
    "\n",
    "    # Combine those cases\n",
    "    for casee in equal_indexes:\n",
    "        print(casee)\n",
    "        sub_df = opto_df_sel.loc[casee].copy()\n",
    "        # create new instance to add to the dataframe,\n",
    "        # initiating it in the first index of the set\n",
    "        new_element = sub_df.iloc[0].copy()\n",
    "        # change relevant values\n",
    "        new_element.SessionID = \"merge\"\n",
    "        new_element.Ntrials = np.mean(sub_df.Ntrials.values)\n",
    "        new_element.Protocol = \"merge\"\n",
    "        new_element.InitialBias = np.nan\n",
    "        new_element.Bias = np.nan\n",
    "        new_element.BiasToStimPort = np.mean(sub_df.BiasToStimPort.values)\n",
    "        new_element.RandomBiases = np.concatenate(sub_df.RandomBiases.values)\n",
    "        new_element.RandomBiasMean = np.mean(new_element.RandomBiases)\n",
    "        new_element.RandomBiasStd = np.std(new_element.RandomBiases)\n",
    "        new_element.bias_to_stim_port_cong = np.mean(sub_df.bias_to_stim_port_cong.values)\n",
    "        new_element.bias_to_stim_port_incong = np.mean(sub_df.bias_to_stim_port_incong.values)\n",
    "        # remove old indexes\n",
    "        opto_df_sel.drop(casee, inplace=True)\n",
    "        # add new row\n",
    "        # opto_df_sel = opto_df_sel.append(new_element)\n",
    "        opto_df_sel = pd.concat([opto_df_sel, pd.DataFrame(new_element).T])\n",
    "    # opto_df_sel.sort_index(inplace=True)\n",
    "\n",
    "    return opto_df_sel\n"
   ]
  },
  {
   "cell_type": "code",
   "execution_count": 11,
   "metadata": {
    "colab": {
     "base_uri": "https://localhost:8080/"
    },
    "executionInfo": {
     "elapsed": 918,
     "status": "ok",
     "timestamp": 1734676166420,
     "user": {
      "displayName": "Hernando Martínez",
      "userId": "01161521225148032839"
     },
     "user_tz": -60
    },
    "id": "b0U-twG1gmsz",
    "outputId": "dc16a4f4-3468-4698-cf3e-094ce41e559f"
   },
   "outputs": [
    {
     "name": "stdout",
     "output_type": "stream",
     "text": [
      "[5, 9]\n",
      "[6, 8]\n",
      "[24, 27]\n",
      "[26, 29]\n",
      "[45, 49]\n",
      "[51, 56, 58]\n",
      "[64, 67]\n",
      "[73, 75]\n",
      "[79, 82, 83, 84, 86]\n",
      "[91, 94]\n"
     ]
    }
   ],
   "source": [
    "# If several sessions exist for one mouse on the same conditions of hemisphere\n",
    "# and stimulated side, combine them (average results)\n",
    "\n",
    "opto_df_sel = merge_repeated_cases_for_dopamine_optostimulation(opto_df_sel)"
   ]
  },
  {
   "cell_type": "markdown",
   "metadata": {
    "id": "QFgkSNTZgmsz"
   },
   "source": [
    "#### Generate **Figure 4D**"
   ]
  },
  {
   "cell_type": "code",
   "execution_count": 12,
   "metadata": {
    "executionInfo": {
     "elapsed": 227,
     "status": "ok",
     "timestamp": 1734676349341,
     "user": {
      "displayName": "Hernando Martínez",
      "userId": "01161521225148032839"
     },
     "user_tz": -60
    },
    "id": "8V8w-Z0S0kCV"
   },
   "outputs": [],
   "source": [
    "def make_figure_opto_da_boxplots(opto_df_sel, hor):\n",
    "    dist_to_compare_list = []\n",
    "    # make a palette\n",
    "    colors = [\"darkslategray\", \"sandybrown\"]\n",
    "\n",
    "    effect_sizes = []\n",
    "\n",
    "    # spread of things\n",
    "    spread = 0.2\n",
    "    randspread = 2.3 * spread\n",
    "\n",
    "    # plot\n",
    "    rel = sns.catplot(\n",
    "        data=opto_df_sel,\n",
    "        x=\"FiberArea\",\n",
    "        y=\"BiasToStimPort\",\n",
    "        # y=\"bias_to_stim_port_cong\",\n",
    "        hue=\"FiberArea\",\n",
    "        alpha=1,\n",
    "        # size=5,\n",
    "        marker=\"o\",\n",
    "        s=10,\n",
    "        linewidth=1,\n",
    "        edgecolor=\"k\",  # jitter=.15,\n",
    "        hue_order=hor,\n",
    "        kind=\"swarm\",\n",
    "        height=15,\n",
    "        aspect=8 / 6,\n",
    "        palette=sns.color_palette(colors),\n",
    "    )\n",
    "\n",
    "    # add the distribution of the random biases, and mean and std\n",
    "    axs = rel.fig.axes\n",
    "\n",
    "    orig_y_lim = axs[0].get_ylim()[1]\n",
    "\n",
    "    # move overall title up\n",
    "    rel.fig.subplots_adjust(top=0.9)\n",
    "    rel.fig.suptitle(\n",
    "        \"Contralateral DA stimulation on center port\", y=1.05, fontsize=16\n",
    "    )\n",
    "    for ax in axs:\n",
    "        ax.set_ylabel(\"Bias to stimulated port (% of choices)\", fontsize=16)\n",
    "        ax.set_xlabel(\"\")\n",
    "        ax.hlines(\n",
    "            0,\n",
    "            ax.get_xlim()[0],\n",
    "            ax.get_xlim()[1],\n",
    "            linestyles=\"dotted\",\n",
    "            alpha=0.4,\n",
    "            zorder=-2,\n",
    "        )\n",
    "        for i, pos in enumerate(ax.get_xticks()):\n",
    "            facond = opto_df_sel.FiberArea == hor[i]\n",
    "            randbiases = np.array(\n",
    "                [\n",
    "                    item\n",
    "                    for sublist in opto_df_sel[facond].RandomBiases.values\n",
    "                    for item in sublist\n",
    "                ]\n",
    "            )\n",
    "            bp = ax.boxplot(\n",
    "                randbiases,\n",
    "                positions=[pos + randspread],\n",
    "                widths=0.07,\n",
    "                patch_artist=True,\n",
    "                showfliers=False,\n",
    "            )\n",
    "            for element in [\n",
    "                \"boxes\",\n",
    "                \"whiskers\",\n",
    "                \"fliers\",\n",
    "                \"means\",\n",
    "                \"medians\",\n",
    "                \"caps\",\n",
    "            ]:\n",
    "                plt.setp(bp[element], color=\"gray\", linewidth=3)\n",
    "            for patch in bp[\"boxes\"]:\n",
    "                patch.set(facecolor=\"white\")\n",
    "\n",
    "            # mean and std\n",
    "            dist_to_compare = opto_df_sel[facond].BiasToStimPort.values\n",
    "            # dist_to_compare = opto_df_sel[facond].bias_to_stim_port_cong.values\n",
    "            bp = ax.boxplot(\n",
    "                dist_to_compare,\n",
    "                positions=[pos + spread],\n",
    "                widths=0.07,\n",
    "                patch_artist=True,\n",
    "                showfliers=False,\n",
    "            )\n",
    "            for element in [\n",
    "                \"boxes\",\n",
    "                \"whiskers\",\n",
    "                \"fliers\",\n",
    "                \"means\",\n",
    "                \"medians\",\n",
    "                \"caps\",\n",
    "            ]:\n",
    "                plt.setp(bp[element], color=colors[i], linewidth=3)\n",
    "            for patch in bp[\"boxes\"]:\n",
    "                patch.set(facecolor=\"white\")\n",
    "\n",
    "            pval = stats.ranksums(\n",
    "                dist_to_compare, randbiases, alternative=\"greater\"\n",
    "            ).pvalue\n",
    "            # effect size\n",
    "            effect_sizes.append((np.mean(dist_to_compare)) / np.std(\n",
    "                randbiases\n",
    "            ))\n",
    "            dist_to_compare_list.append(dist_to_compare)\n",
    "\n",
    "            ax.text(\n",
    "                x=i + 1.5 * spread,\n",
    "                y=1.2 * orig_y_lim,\n",
    "                s=\"pval = {:.6}\".format(str(pval)),\n",
    "                horizontalalignment=\"center\",\n",
    "                fontsize=14,\n",
    "            )\n",
    "            ax.plot(\n",
    "                [i + spread * 0.5, i + randspread],\n",
    "                [orig_y_lim * 1.1, orig_y_lim * 1.1],\n",
    "                color=\"k\",\n",
    "                linewidth=0.5,\n",
    "            )\n",
    "            ax.plot(\n",
    "                [i + spread * 0.5, i + 0.5 * spread],\n",
    "                [orig_y_lim, orig_y_lim * 1.1],\n",
    "                color=\"k\",\n",
    "                linewidth=0.5,\n",
    "            )\n",
    "            ax.plot(\n",
    "                [i + randspread, i + randspread],\n",
    "                [orig_y_lim, orig_y_lim * 1.1],\n",
    "                color=\"k\",\n",
    "                linewidth=0.5,\n",
    "            )\n",
    "\n",
    "        ax.set_xlim([-2 * spread, 1 + 5 * spread])\n",
    "        ax.set_xticks([spread, 1 + spread])\n",
    "\n",
    "        # for tick in ax.xaxis.get_major_ticks():\n",
    "        #     tick.label.set_fontsize(16)\n",
    "        # for tick in ax.yaxis.get_major_ticks():\n",
    "        #     tick.label.set_fontsize(14)\n",
    "\n",
    "        # keep only y axis and floating x ticks\n",
    "        ax.set_frame_on(False)\n",
    "        xmin, xmax = ax.get_xaxis().get_view_interval()\n",
    "        ax.plot((xmin, xmin), (-30, 30), color=\"black\", linewidth=1)\n",
    "\n",
    "        ax.set_xticklabels(hor)\n",
    "\n",
    "    return rel, effect_sizes, dist_to_compare_list\n"
   ]
  },
  {
   "cell_type": "code",
   "execution_count": 15,
   "metadata": {
    "colab": {
     "base_uri": "https://localhost:8080/",
     "height": 1000
    },
    "executionInfo": {
     "elapsed": 1041,
     "status": "ok",
     "timestamp": 1734676351223,
     "user": {
      "displayName": "Hernando Martínez",
      "userId": "01161521225148032839"
     },
     "user_tz": -60
    },
    "id": "js00wU5Fgmsz",
    "outputId": "5481cc18-ad52-456b-f230-60b27b60c138"
   },
   "outputs": [
    {
     "data": {
      "image/png": "[encoded data removed]",
      "text/plain": [
       "<Figure size 1440x1080 with 1 Axes>"
      ]
     },
     "metadata": {
      "needs_background": "light"
     },
     "output_type": "display_data"
    }
   ],
   "source": [
    "fig, es, dtc = make_figure_opto_da_boxplots(opto_df_sel, hor = ['tStr', 'NAc'])\n",
    "                                                # tit='Contralateral DA stimulation on center port')\n",
    "plt.show(fig)\n",
    "# uncomment here to save the plot\n",
    "# data_directory = ''\n",
    "# fig.savefig('dopamine_optostimulation_centerport_incongruent.pdf',\n",
    "#             transparent=True, bbox_inches='tight')"
   ]
  },
  {
   "cell_type": "code",
   "execution_count": 16,
   "metadata": {
    "colab": {
     "base_uri": "https://localhost:8080/"
    },
    "executionInfo": {
     "elapsed": 325,
     "status": "ok",
     "timestamp": 1734676353099,
     "user": {
      "displayName": "Hernando Martínez",
      "userId": "01161521225148032839"
     },
     "user_tz": -60
    },
    "id": "N2a4hITcJtwT",
    "outputId": "534027d4-303c-4f6f-bffc-385c0f37106a"
   },
   "outputs": [
    {
     "name": "stdout",
     "output_type": "stream",
     "text": [
      "wilcoxon to zero pval = 0.01806640625\n"
     ]
    }
   ],
   "source": [
    "w_p = stats.wilcoxon(list(dtc[0])).pvalue\n",
    "print(f\"wilcoxon to zero pval = {w_p}\")\n"
   ]
  },
  {
   "cell_type": "markdown",
   "metadata": {
    "id": "ksmQHq3Mgmsz"
   },
   "source": [
    "#### Generate **Figure 4F**"
   ]
  },
  {
   "cell_type": "code",
   "execution_count": 16,
   "metadata": {
    "executionInfo": {
     "elapsed": 305,
     "status": "ok",
     "timestamp": 1734676019697,
     "user": {
      "displayName": "Hernando Martínez",
      "userId": "01161521225148032839"
     },
     "user_tz": -60
    },
    "id": "nmLamy2Bgms0"
   },
   "outputs": [],
   "source": [
    "# Subselect the dataframe based on some conditions\n",
    "#### conditions\n",
    "# remove sessions in which initially the mouse is very bias\n",
    "conditions = opto_df.Protocol.isin(['Aud_Psycho', 'Auditory'])\n",
    "conditions = np.logical_and(conditions, extreme_ini_bias < opto_df.InitialBias)\n",
    "conditions = np.logical_and(conditions, (100 - extreme_ini_bias) > opto_df.InitialBias)\n",
    "# select those sessions for which the stimulation is not labeled as contralateral\n",
    "# as the stimulation was bilateral\n",
    "conditions = np.logical_and(conditions, opto_df.Contralateral==False)\n",
    "# select those sessions in which the stimulation happens when the animal is in the cent port\n",
    "# this tests for state-action associations\n",
    "conditions = np.logical_and(conditions, opto_df.StimPort=='Side')\n",
    "# conditions = np.logical_and(conditions, opto_df.FiberArea=='tStr')\n",
    "\n",
    "opto_df_sideport = opto_df[conditions].copy()"
   ]
  },
  {
   "cell_type": "code",
   "execution_count": null,
   "metadata": {
    "colab": {
     "base_uri": "https://localhost:8080/",
     "height": 1000
    },
    "executionInfo": {
     "elapsed": 972,
     "status": "ok",
     "timestamp": 1734676022312,
     "user": {
      "displayName": "Hernando Martínez",
      "userId": "01161521225148032839"
     },
     "user_tz": -60
    },
    "id": "7ymZERHsgms0",
    "outputId": "09292fe2-3d55-40fa-a845-16a2388279ba"
   },
   "outputs": [
    {
     "data": {
      "image/png": "[encoded data removed]",
      "text/plain": [
       "<Figure size 1440x1080 with 1 Axes>"
      ]
     },
     "metadata": {
      "needs_background": "light"
     },
     "output_type": "display_data"
    }
   ],
   "source": [
    "fig, es2, dtc = make_figure_opto_da_boxplots(opto_df_sideport, hor = ['tStr', 'NAc'])\n",
    "                                                # tit='Bilateral tStr-DA stimulation\\non side port')\n",
    "plt.show(fig)\n",
    "# uncomment here to save the plot\n",
    "# data_directory = ''\n",
    "# fig.savefig('dopamine_optostimulation_sideport.pdf',\n",
    "#             transparent=True, bbox_inches='tight')"
   ]
  },
  {
   "cell_type": "code",
   "execution_count": 40,
   "metadata": {
    "colab": {
     "base_uri": "https://localhost:8080/"
    },
    "executionInfo": {
     "elapsed": 219,
     "status": "ok",
     "timestamp": 1734676044712,
     "user": {
      "displayName": "Hernando Martínez",
      "userId": "01161521225148032839"
     },
     "user_tz": -60
    },
    "id": "dMaWWuKFlQCx",
    "outputId": "d6894987-3dcf-44fb-8689-bd56a3347063"
   },
   "outputs": [
    {
     "name": "stdout",
     "output_type": "stream",
     "text": [
      "wilcoxon to zero pval = 0.84375\n"
     ]
    }
   ],
   "source": [
    "w_p = stats.wilcoxon(list(dtc[1])).pvalue\n",
    "print(f\"wilcoxon to zero pval = {w_p}\")"
   ]
  }
 ],
 "metadata": {
  "colab": {
   "provenance": [
    {
     "file_id": "https://github.com/HernandoMV/APE_paper/blob/main/docs/figures_notebooks/Figure_6_CDF.ipynb",
     "timestamp": 1724153163459
    }
   ]
  },
  "kernelspec": {
   "display_name": "APE_paper",
   "language": "python",
   "name": "python3"
  },
  "language_info": {
   "codemirror_mode": {
    "name": "ipython",
    "version": 3
   },
   "file_extension": ".py",
   "mimetype": "text/x-python",
   "name": "python",
   "nbconvert_exporter": "python",
   "pygments_lexer": "ipython3",
   "version": "3.9.12"
  },
  "orig_nbformat": 4,
  "vscode": {
   "interpreter": {
    "hash": "2ee272fe26eecc87357a56bca0cf8dd5255900133eec92d0d83e2a7e1aaf1681"
   }
  }
 },
 "nbformat": 4,
 "nbformat_minor": 0
}
