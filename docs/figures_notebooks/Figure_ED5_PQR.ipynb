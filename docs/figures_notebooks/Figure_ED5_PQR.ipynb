{
 "cells": [
  {
   "cell_type": "code",
   "execution_count": 1,
   "id": "19b7eebf-81f4-40c7-81da-d52bbab6b365",
   "metadata": {},
   "outputs": [],
   "source": [
    "# This notebook compares the dopamine signal acquired in a modified version of the CoT task: The sound (cue) was played during the return \n",
    "# from the side port to the center port. Extracted dopamine levels are aligned to the cue and to movement (from the center to the side port). \n",
    "# Please note that this modification only applies to contralateral trials. "
   ]
  },
  {
   "cell_type": "code",
   "execution_count": null,
   "id": "295929c3-6b08-4593-aaaf-73f69c71603f",
   "metadata": {},
   "outputs": [],
   "source": [
    "# run this on Colab\n",
    "!rm -rf APE_paper/\n",
    "!git clone https://github.com/HernandoMV/APE_paper.git\n",
    "%cd APE_paper/docs/figures_notebooks\n",
    "!git checkout YvonneJohansson"
   ]
  },
  {
   "cell_type": "code",
   "execution_count": 1,
   "id": "52b23256-1325-43da-aa44-32889435e279",
   "metadata": {},
   "outputs": [],
   "source": [
    "%load_ext autoreload\n",
    "%autoreload 2\n",
    "import pandas as pd\n",
    "import urllib.request\n",
    "from os.path import exists\n",
    "import matplotlib.pylab as plt\n",
    "import numpy as np\n",
    "import pickle\n",
    "from scipy.signal import decimate\n",
    "\n",
    "import warnings\n",
    "warnings.filterwarnings('ignore')"
   ]
  },
  {
   "cell_type": "code",
   "execution_count": 2,
   "id": "389f71c4-b16d-45a0-b9ac-b35b733261f5",
   "metadata": {},
   "outputs": [],
   "source": [
    "import sys\n",
    "import os\n",
    "sys.path.insert(1, os.path.dirname(os.path.dirname(os.path.abspath(os.curdir))))\n",
    "from scripts import YJ_analysis_utils as yj_utils\n",
    "from scripts import yj_plotting as yj_plot"
   ]
  },
  {
   "cell_type": "code",
   "execution_count": 3,
   "id": "53ab1b18-476d-4832-99f7-9272f847e572",
   "metadata": {},
   "outputs": [
    {
     "name": "stdout",
     "output_type": "stream",
     "text": [
      "DataOverview already in directory\n"
     ]
    }
   ],
   "source": [
    "# Extended Data 5P, 5Q & 5R:\n",
    "\n",
    "# Get dataset information:\n",
    "dataset_name = 'DataOverview_ED5PQR.csv'\n",
    "zenodo = \"https://zenodo.org/records/xxxxxxxxxxx/files/\"\n",
    "url = zenodo + dataset_name\n",
    "dataset_path = '../../data/' + dataset_name\n",
    "\n",
    "if not exists(dataset_path):\n",
    "    print('Downloading data...')\n",
    "    urllib.request.urlretrieve(url, dataset_path)\n",
    "else:\n",
    "    print('DataOverview already in directory')\n",
    "\n",
    "#print(dataset_path)\n",
    "info = pd.read_csv(dataset_path)"
   ]
  },
  {
   "cell_type": "code",
   "execution_count": 4,
   "id": "8dc0b608-bc5f-4be9-8c48-0c475089a0c1",
   "metadata": {},
   "outputs": [
    {
     "data": {
      "text/html": [
       "<div>\n",
       "<style scoped>\n",
       "    .dataframe tbody tr th:only-of-type {\n",
       "        vertical-align: middle;\n",
       "    }\n",
       "\n",
       "    .dataframe tbody tr th {\n",
       "        vertical-align: top;\n",
       "    }\n",
       "\n",
       "    .dataframe thead th {\n",
       "        text-align: right;\n",
       "    }\n",
       "</style>\n",
       "<table border=\"1\" class=\"dataframe\">\n",
       "  <thead>\n",
       "    <tr style=\"text-align: right;\">\n",
       "      <th></th>\n",
       "      <th>Unnamed: 0</th>\n",
       "      <th>AnimalID</th>\n",
       "      <th>Date</th>\n",
       "      <th>fiber_side</th>\n",
       "      <th>protocol1</th>\n",
       "    </tr>\n",
       "  </thead>\n",
       "  <tbody>\n",
       "    <tr>\n",
       "      <th>0</th>\n",
       "      <td>1</td>\n",
       "      <td>TS24</td>\n",
       "      <td>20230929</td>\n",
       "      <td>right</td>\n",
       "      <td>SOR</td>\n",
       "    </tr>\n",
       "    <tr>\n",
       "      <th>1</th>\n",
       "      <td>2</td>\n",
       "      <td>TS26</td>\n",
       "      <td>20230918</td>\n",
       "      <td>right</td>\n",
       "      <td>SOR</td>\n",
       "    </tr>\n",
       "    <tr>\n",
       "      <th>2</th>\n",
       "      <td>3</td>\n",
       "      <td>TS27</td>\n",
       "      <td>20231003</td>\n",
       "      <td>right</td>\n",
       "      <td>SOR</td>\n",
       "    </tr>\n",
       "    <tr>\n",
       "      <th>3</th>\n",
       "      <td>4</td>\n",
       "      <td>TS32</td>\n",
       "      <td>20231026</td>\n",
       "      <td>right</td>\n",
       "      <td>SOR</td>\n",
       "    </tr>\n",
       "    <tr>\n",
       "      <th>4</th>\n",
       "      <td>5</td>\n",
       "      <td>TS33</td>\n",
       "      <td>20231102</td>\n",
       "      <td>right</td>\n",
       "      <td>SOR</td>\n",
       "    </tr>\n",
       "    <tr>\n",
       "      <th>5</th>\n",
       "      <td>6</td>\n",
       "      <td>TS34</td>\n",
       "      <td>20231031</td>\n",
       "      <td>right</td>\n",
       "      <td>SOR</td>\n",
       "    </tr>\n",
       "  </tbody>\n",
       "</table>\n",
       "</div>"
      ],
      "text/plain": [
       "   Unnamed: 0 AnimalID      Date fiber_side protocol1\n",
       "0           1     TS24  20230929      right       SOR\n",
       "1           2     TS26  20230918      right       SOR\n",
       "2           3     TS27  20231003      right       SOR\n",
       "3           4     TS32  20231026      right       SOR\n",
       "4           5     TS33  20231102      right       SOR\n",
       "5           6     TS34  20231031      right       SOR"
      ]
     },
     "execution_count": 4,
     "metadata": {},
     "output_type": "execute_result"
    }
   ],
   "source": [
    "info"
   ]
  },
  {
   "cell_type": "code",
   "execution_count": 5,
   "id": "445f8f69-8585-4e96-b906-02569672de7f",
   "metadata": {},
   "outputs": [
    {
     "data": {
      "image/png": "[encoded data removed]",
      "text/plain": [
       "<Figure size 900x300 with 3 Axes>"
      ]
     },
     "metadata": {},
     "output_type": "display_data"
    }
   ],
   "source": [
    "all_group_data = {'SOR_cue':[], 'SOR_choice':[]}\n",
    "SOR_cue_peak_values = []\n",
    "SOR_choice_peak_values = []\n",
    "nr_mice = info.shape[0]\n",
    "\n",
    "for i, mouse in enumerate(info['AnimalID']):\n",
    "    date = str(info['Date'][i])\n",
    "    fiber_side = info['fiber_side'][i]\n",
    "    protocol = info['protocol1'][i]\n",
    "    dataset_names = []\n",
    "    CoT_trial_dataname = mouse + '_' + date + '_restructured_data.pkl'\n",
    "    CoT_photo_dataname = mouse + '_' + date + '_smoothed_signal.npy' \n",
    "    dataset_names.extend([CoT_photo_dataname,CoT_trial_dataname])\n",
    "    url = zenodo + dataset_name\n",
    "    for j, dataset_name in enumerate(dataset_names): \n",
    "        dataset_path = '../../data/' + dataset_name\n",
    "        if not exists(dataset_path):\n",
    "            print('Downloading ' + dataset_name)\n",
    "            urllib.request.urlretrieve(url, dataset_path)\n",
    "        #else:\n",
    "        #   print(dataset_name + ' already in directory')\n",
    "        \n",
    "        if j == 0:\n",
    "            photometry_data = np.load(dataset_path)  \n",
    "        if j == 1:  \n",
    "            trial_data = pd.read_pickle(dataset_path)\n",
    "            session_traces = yj_utils.SessionData(mouse, date, fiber_side, protocol, trial_data, photometry_data)\n",
    "        \n",
    "    alignements = ['SOR_choice', 'SOR_cue']\n",
    "    for a, alignement in enumerate(alignements):\n",
    "        if alignement == 'SOR_cue':\n",
    "            curr_data = session_traces.SOR_cue\n",
    "        elif alignement == 'SOR_choice':\n",
    "            curr_data = session_traces.SOR_choice\n",
    "\n",
    "        curr_data_mean = decimate(curr_data.contra_data.mean_trace, 10)\n",
    "        curr_data_time = decimate(curr_data.contra_data.time_points, 10)\n",
    "        curr_data_traces = decimate(curr_data.contra_data.sorted_traces, 10)\n",
    "        \n",
    "        \n",
    "        # get the peak values:\n",
    "        if alignement == 'SOR_choice':\n",
    "            start_inx = 8000 # time 0 (session_traces contain raw traces of 16000 data points where the 8000th point is time 0)\n",
    "            SOR_choice_time_range = curr_data_time[start_inx:start_inx + 8000]\n",
    "            SOR_choice_peak_index = np.argmax(curr_data_mean[start_inx:start_inx + 8000])\n",
    "            SOR_choice_peak_time = SOR_choice_time_range[SOR_choice_peak_index]\n",
    "            SOR_choice_peak_value = curr_data_mean[start_inx + SOR_choice_peak_index]\n",
    "            SOR_choice_peak_values.append(SOR_choice_peak_value)\n",
    "        elif alignement == 'SOR_cue':\n",
    "            SOR_cue_peak_value = curr_data_mean[start_inx + SOR_choice_peak_index]\n",
    "            SOR_cue_peak_values.append(SOR_cue_peak_value)\n",
    "\n",
    "        \n",
    "\n",
    "\n",
    "figure = yj_plot.plot_ED5PQR(all_group_data, curr_data_time, SOR_choice_peak_values, SOR_cue_peak_values)\n",
    "\n",
    "# uncomment here to save the plot\n",
    "#dataset_path = '../../data/'\n",
    "#plt.savefig(dataset_path + 'SFig6pqr.png',\n",
    "#            transparent=True, bbox_inches='tight')"
   ]
  },
  {
   "cell_type": "code",
   "execution_count": null,
   "id": "b3a7bc63-eae5-4f2e-ba6d-bc514208889b",
   "metadata": {},
   "outputs": [],
   "source": []
  }
 ],
 "metadata": {
  "kernelspec": {
   "display_name": "Python 3 (ipykernel)",
   "language": "python",
   "name": "python3"
  },
  "language_info": {
   "codemirror_mode": {
    "name": "ipython",
    "version": 3
   },
   "file_extension": ".py",
   "mimetype": "text/x-python",
   "name": "python",
   "nbconvert_exporter": "python",
   "pygments_lexer": "ipython3",
   "version": "3.9.18"
  }
 },
 "nbformat": 4,
 "nbformat_minor": 5
}
