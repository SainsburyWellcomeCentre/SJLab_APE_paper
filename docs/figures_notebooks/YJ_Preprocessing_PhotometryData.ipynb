{
 "cells": [
  {
   "cell_type": "code",
   "execution_count": 1,
   "id": "a7089584-caab-47a4-ad0d-f80dbe80addd",
   "metadata": {},
   "outputs": [],
   "source": [
    "# This notebook shows how raw data (1. dLight photometry and 2. behavioural bpod data from matlab) \n",
    "# was pre-processed and restructured for further analysis in python. "
   ]
  },
  {
   "cell_type": "code",
   "execution_count": null,
   "id": "8b346df0-a606-4122-bc4b-00c9c2b2d1f3",
   "metadata": {},
   "outputs": [],
   "source": [
    "# run this on Colab\n",
    "!rm -rf APE_paper/\n",
    "!git clone https://github.com/HernandoMV/APE_paper.git\n",
    "%cd APE_paper/docs/figures_notebooks\n",
    "!git checkout YvonneJohansson"
   ]
  },
  {
   "cell_type": "code",
   "execution_count": 19,
   "id": "658656fa-999d-4083-8767-d5a0452b1edd",
   "metadata": {},
   "outputs": [
    {
     "name": "stdout",
     "output_type": "stream",
     "text": [
      "The autoreload extension is already loaded. To reload it, use:\n",
      "  %reload_ext autoreload\n"
     ]
    }
   ],
   "source": [
    "%load_ext autoreload\n",
    "%autoreload 2\n",
    "import urllib.request\n",
    "from os.path import exists\n",
    "import pandas as pd\n",
    "import sys\n",
    "import os\n",
    "sys.path.insert(1, os.path.dirname(os.path.dirname(os.path.abspath(os.curdir))))\n",
    "dataset_path = '../../data/'\n",
    "from scripts import YJ_preprocessing as YJ_pp"
   ]
  },
  {
   "cell_type": "markdown",
   "id": "2327de29-84a5-4fc2-82cc-24c312a04a68",
   "metadata": {},
   "source": [
    "Select which data to preprocess:"
   ]
  },
  {
   "cell_type": "code",
   "execution_count": 14,
   "id": "8e19da75-030d-4412-b2c6-6c324efea878",
   "metadata": {},
   "outputs": [],
   "source": [
    "# Select which data to preprocess - chose a specific figure panel:\n",
    "\n",
    "figure = 'ED12FG'"
   ]
  },
  {
   "cell_type": "code",
   "execution_count": 15,
   "id": "a69e2e11-9c5c-4994-a027-7637d7cfc454",
   "metadata": {},
   "outputs": [],
   "source": [
    "if figure == 'ED12FG':\n",
    "    mice = ['TS24', 'TS26', 'TS33', 'TS34']\n",
    "    dates = ['20230920', '20230918','20231102','20231030']\n",
    "    protocol = 'SOR'\n",
    "\n",
    "if figure == 'ED5PQR':\n",
    "    mice = ['TS24', 'TS26', 'TS27', 'TS32', 'TS33', 'TS34']\n",
    "    dates = ['20230929', '20230918','20231003', '20231026','20231102','20231031']\n",
    "    protocol = 'SOR'\n",
    "\n",
    "if figure == 'ED5ST':\n",
    "    mice = ['TS24', 'TS26', 'TS27', 'TS32', 'TS33', 'TS33', 'TS34','TS34']\n",
    "    dates = ['20230929', '20230918','20231003','20231026','20231026','20231102','20231026','20231031']\n",
    "    protocol = 'SOR'\n",
    "\n",
    "\n",
    "if figure == 'ED5VW':\n",
    "    mice = ['TS3', 'TS20', 'TS21', 'TS26', 'TS33']\n",
    "    dates = ['20230203', '20230512','20230510','20230929','20231106']\n",
    "    protocol = ''\n",
    "\n",
    "if figure == 'ED5XY':\n",
    "    mice = ['TS32', 'TS33', 'TS34']\n",
    "    dates = ['20231128','20231128','20231128']\n",
    "    protocol = ''"
   ]
  },
  {
   "cell_type": "code",
   "execution_count": 16,
   "id": "9627d385-419a-49bf-8612-206134d5d824",
   "metadata": {},
   "outputs": [
    {
     "name": "stdout",
     "output_type": "stream",
     "text": [
      "   AnimalID      Date fiber_side     protocol1 protocol2\n",
      "1      TS34  20231128      right           LRO       RWN\n",
      "2      TS33  20231128      right           LRO       RWN\n",
      "3      TS32  20231128      right           LRO       RWN\n",
      "4      TS33  20231106      right           SOR       RTC\n",
      "5      TS33  20231102      right           SOR       NaN\n",
      "6      TS34  20231031      right           SOR       NaN\n",
      "7      TS34  20231030      right           SOR       NaN\n",
      "8      TS32  20231026      right           SOR       NaN\n",
      "9      TS27  20231003      right           SOR       NaN\n",
      "10     TS24  20230929      right           SOR       NaN\n",
      "11     TS26  20230929      right           2AC       RTC\n",
      "12     TS24  20230920      right           SOR       NaN\n",
      "13     TS26  20230918      right           SOR       NaN\n",
      "14     TS20  20230512       left  psychometric       RTC\n",
      "15     TS21  20230510       left       silence       RTC\n",
      "16      TS3  20230203      right           2AC       RTC\n"
     ]
    }
   ],
   "source": [
    "import pandas as pd\n",
    "from io import StringIO\n",
    "\n",
    "# CSV data as a multi-line string\n",
    "csv_data = \"\"\"AnimalID,Date,fiber_side,protocol1,protocol2\n",
    "1,TS34,20231128,right,LRO,RWN\n",
    "2,TS33,20231128,right,LRO,RWN\n",
    "3,TS32,20231128,right,LRO,RWN\n",
    "4,TS33,20231106,right,SOR,RTC\n",
    "5,TS33,20231102,right,SOR,\n",
    "6,TS34,20231031,right,SOR,\n",
    "7,TS34,20231030,right,SOR,\n",
    "8,TS32,20231026,right,SOR,\n",
    "9,TS27,20231003,right,SOR,\n",
    "10,TS24,20230929,right,SOR,\n",
    "11,TS26,20230929,right,2AC,RTC\n",
    "12,TS24,20230920,right,SOR,\n",
    "13,TS26,20230918,right,SOR,\n",
    "14,TS20,20230512,left,psychometric,RTC\n",
    "15,TS21,20230510,left,silence,RTC\n",
    "16,TS3,20230203,right,2AC,RTC\n",
    "\"\"\"\n",
    "\n",
    "# Read the CSV data, using the first column as the index so that the header labels match correctly.\n",
    "exp_record = pd.read_csv(StringIO(csv_data), index_col=0)\n",
    "\n",
    "# Display the resulting DataFrame\n",
    "print(exp_record)\n"
   ]
  },
  {
   "cell_type": "code",
   "execution_count": 17,
   "id": "0fee6779-c4ff-4723-9a33-e2fc9e724b2c",
   "metadata": {},
   "outputs": [
    {
     "data": {
      "text/html": [
       "<div>\n",
       "<style scoped>\n",
       "    .dataframe tbody tr th:only-of-type {\n",
       "        vertical-align: middle;\n",
       "    }\n",
       "\n",
       "    .dataframe tbody tr th {\n",
       "        vertical-align: top;\n",
       "    }\n",
       "\n",
       "    .dataframe thead th {\n",
       "        text-align: right;\n",
       "    }\n",
       "</style>\n",
       "<table border=\"1\" class=\"dataframe\">\n",
       "  <thead>\n",
       "    <tr style=\"text-align: right;\">\n",
       "      <th></th>\n",
       "      <th>AnimalID</th>\n",
       "      <th>Date</th>\n",
       "      <th>fiber_side</th>\n",
       "      <th>protocol</th>\n",
       "    </tr>\n",
       "  </thead>\n",
       "  <tbody>\n",
       "    <tr>\n",
       "      <th>0</th>\n",
       "      <td>TS24</td>\n",
       "      <td>20230920</td>\n",
       "      <td>right</td>\n",
       "      <td>SOR</td>\n",
       "    </tr>\n",
       "    <tr>\n",
       "      <th>1</th>\n",
       "      <td>TS26</td>\n",
       "      <td>20230918</td>\n",
       "      <td>right</td>\n",
       "      <td>SOR</td>\n",
       "    </tr>\n",
       "    <tr>\n",
       "      <th>2</th>\n",
       "      <td>TS33</td>\n",
       "      <td>20231102</td>\n",
       "      <td>right</td>\n",
       "      <td>SOR</td>\n",
       "    </tr>\n",
       "    <tr>\n",
       "      <th>3</th>\n",
       "      <td>TS34</td>\n",
       "      <td>20231030</td>\n",
       "      <td>right</td>\n",
       "      <td>SOR</td>\n",
       "    </tr>\n",
       "  </tbody>\n",
       "</table>\n",
       "</div>"
      ],
      "text/plain": [
       "  AnimalID      Date fiber_side protocol\n",
       "0     TS24  20230920      right      SOR\n",
       "1     TS26  20230918      right      SOR\n",
       "2     TS33  20231102      right      SOR\n",
       "3     TS34  20231030      right      SOR"
      ]
     },
     "execution_count": 17,
     "metadata": {},
     "output_type": "execute_result"
    }
   ],
   "source": [
    "# Get the experiments to process:\n",
    "experiments_to_process = YJ_pp.GetExperimentsToProcess(mice, dates, protocol, exp_record)\n",
    "experiments_to_process    "
   ]
  },
  {
   "cell_type": "code",
   "execution_count": 21,
   "id": "455bb8dc-46dc-4910-b947-83333db606ea",
   "metadata": {},
   "outputs": [
    {
     "name": "stdout",
     "output_type": "stream",
     "text": [
      "Please download ED12FG from \n",
      "https://figshare.com/account/projects/240596/articles/28675781\n",
      "to\n",
      "../../data/\n"
     ]
    }
   ],
   "source": [
    "print('Please download ' + figure + ' from ')\n",
    "print('https://figshare.com')\n",
    "print('Project: Dopaminergic action prediction errors serve as a value-free teaching signal')\n",
    "print('to')\n",
    "print(dataset_path)\n"
   ]
  },
  {
   "cell_type": "code",
   "execution_count": 93,
   "id": "dd21ca91-7c9b-4fa7-ba5a-df5094e9246c",
   "metadata": {},
   "outputs": [
    {
     "name": "stdout",
     "output_type": "stream",
     "text": [
      "Processing TS32 20231128 LRO\n",
      "         > df:../../data/TS32/20231128_14_07_12/AI.tdms\n",
      "         > 354 trials in session\n",
      "Processing TS32 20231128 RWN\n",
      "         > df:../../data/TS32/TS32_RWN/20231128_14_54_07/AI.tdms\n",
      "         > 83 trials in session\n",
      "Processing TS33 20231128 LRO\n",
      "         > df:../../data/TS33/20231128_15_08_10/AI.tdms\n",
      "         > 602 trials in session\n",
      "Processing TS33 20231128 RWN\n",
      "         > df:../../data/TS33/TS33_RWN/20231128_16_04_21/AI.tdms\n",
      "         > 95 trials in session\n",
      "Processing TS34 20231128 LRO\n",
      "         > df:../../data/TS34/20231128_16_18_08/AI.tdms\n",
      "         > 462 trials in session\n",
      "Processing TS34 20231128 RWN\n",
      "         > df:../../data/TS34/TS34_RWN/20231128_17_22_06/AI.tdms\n",
      "         > 85 trials in session\n",
      "Job completed.\n"
     ]
    }
   ],
   "source": [
    "dfs, trial_datas = YJ_pp.preprocessData(experiments_to_process)"
   ]
  }
 ],
 "metadata": {
  "kernelspec": {
   "display_name": "Python 3 (ipykernel)",
   "language": "python",
   "name": "python3"
  },
  "language_info": {
   "codemirror_mode": {
    "name": "ipython",
    "version": 3
   },
   "file_extension": ".py",
   "mimetype": "text/x-python",
   "name": "python",
   "nbconvert_exporter": "python",
   "pygments_lexer": "ipython3",
   "version": "3.9.18"
  }
 },
 "nbformat": 4,
 "nbformat_minor": 5
}
