{
 "cells": [
  {
   "cell_type": "code",
   "execution_count": 2,
   "id": "152f7566-01a7-4368-9281-cae75d7d4afd",
   "metadata": {},
   "outputs": [],
   "source": [
    "# This notebook compares the dopamine signal aligned to movement during the CoT task to the\n",
    "# dopamine signal evoked by white noise sounds played while the mouse is freely moving right after its CoT session."
   ]
  },
  {
   "cell_type": "code",
   "execution_count": null,
   "id": "d7e02036-32c7-4a4d-a1c2-94d7f9a1e248",
   "metadata": {},
   "outputs": [],
   "source": [
    "# run this on Colab\n",
    "!rm -rf APE_paper/\n",
    "!git clone https://github.com/HernandoMV/APE_paper.git\n",
    "%cd APE_paper/docs/figures_notebooks\n",
    "!git checkout YvonneJohansson"
   ]
  },
  {
   "cell_type": "code",
   "execution_count": 1,
   "id": "a35859b2-6d5c-46cd-ab26-40afc9b9dc2e",
   "metadata": {},
   "outputs": [],
   "source": [
    "%load_ext autoreload\n",
    "%autoreload 2\n",
    "import pandas as pd\n",
    "import urllib.request\n",
    "from os.path import exists\n",
    "import matplotlib.pylab as plt\n",
    "import numpy as np\n",
    "import pickle\n",
    "from scipy.signal import decimate\n",
    "\n",
    "import warnings\n",
    "warnings.filterwarnings('ignore')"
   ]
  },
  {
   "cell_type": "code",
   "execution_count": 2,
   "id": "99335a8b-df1a-41b3-96e1-b0ae9ac3104d",
   "metadata": {},
   "outputs": [],
   "source": [
    "import sys\n",
    "import os\n",
    "sys.path.insert(1, os.path.dirname(os.path.dirname(os.path.abspath(os.curdir))))\n",
    "from scripts import YJ_analysis_utils as yj_utils\n",
    "from scripts import yj_plotting as yj_plot"
   ]
  },
  {
   "cell_type": "code",
   "execution_count": 6,
   "id": "5c8af72e-34e0-4f6c-9543-3a25fcc99c85",
   "metadata": {},
   "outputs": [
    {
     "name": "stdout",
     "output_type": "stream",
     "text": [
      "Downloading data...\n"
     ]
    }
   ],
   "source": [
    "# Extended Data 5X & 5Y:\n",
    "\n",
    "# Get dataset information:\n",
    "dataset_name = 'DataOverview_ED5XY.csv'\n",
    "zenodo = \"https://zenodo.org/records/10852859/files/\"\n",
    "url = zenodo + dataset_name\n",
    "dataset_path = '../../data/' + dataset_name\n",
    "\n",
    "if not exists(dataset_path):\n",
    "    print('Downloading data...')\n",
    "    urllib.request.urlretrieve(url, dataset_path)\n",
    "else:\n",
    "    print('DataOverview already in directory')\n",
    "\n",
    "#print(dataset_path)\n",
    "info = pd.read_csv(dataset_path)"
   ]
  },
  {
   "cell_type": "code",
   "execution_count": 7,
   "id": "89972e0c-daad-4293-8d5c-3ab05b3cb93c",
   "metadata": {},
   "outputs": [
    {
     "data": {
      "text/html": [
       "<div>\n",
       "<style scoped>\n",
       "    .dataframe tbody tr th:only-of-type {\n",
       "        vertical-align: middle;\n",
       "    }\n",
       "\n",
       "    .dataframe tbody tr th {\n",
       "        vertical-align: top;\n",
       "    }\n",
       "\n",
       "    .dataframe thead th {\n",
       "        text-align: right;\n",
       "    }\n",
       "</style>\n",
       "<table border=\"1\" class=\"dataframe\">\n",
       "  <thead>\n",
       "    <tr style=\"text-align: right;\">\n",
       "      <th></th>\n",
       "      <th>Unnamed: 0</th>\n",
       "      <th>AnimalID</th>\n",
       "      <th>Date</th>\n",
       "      <th>fiber_side</th>\n",
       "      <th>protocol1</th>\n",
       "      <th>protocol2</th>\n",
       "    </tr>\n",
       "  </thead>\n",
       "  <tbody>\n",
       "    <tr>\n",
       "      <th>0</th>\n",
       "      <td>1</td>\n",
       "      <td>TS32</td>\n",
       "      <td>20231128</td>\n",
       "      <td>right</td>\n",
       "      <td>LRO</td>\n",
       "      <td>RWN</td>\n",
       "    </tr>\n",
       "    <tr>\n",
       "      <th>1</th>\n",
       "      <td>2</td>\n",
       "      <td>TS33</td>\n",
       "      <td>20231128</td>\n",
       "      <td>right</td>\n",
       "      <td>LRO</td>\n",
       "      <td>RWN</td>\n",
       "    </tr>\n",
       "    <tr>\n",
       "      <th>2</th>\n",
       "      <td>3</td>\n",
       "      <td>TS34</td>\n",
       "      <td>20231128</td>\n",
       "      <td>right</td>\n",
       "      <td>LRO</td>\n",
       "      <td>RWN</td>\n",
       "    </tr>\n",
       "  </tbody>\n",
       "</table>\n",
       "</div>"
      ],
      "text/plain": [
       "   Unnamed: 0 AnimalID      Date fiber_side protocol1 protocol2\n",
       "0           1     TS32  20231128      right       LRO       RWN\n",
       "1           2     TS33  20231128      right       LRO       RWN\n",
       "2           3     TS34  20231128      right       LRO       RWN"
      ]
     },
     "execution_count": 7,
     "metadata": {},
     "output_type": "execute_result"
    }
   ],
   "source": [
    "info"
   ]
  },
  {
   "cell_type": "code",
   "execution_count": 8,
   "id": "8417017d-8e68-4196-b06a-ac55ebe659b1",
   "metadata": {},
   "outputs": [
    {
     "name": "stdout",
     "output_type": "stream",
     "text": [
      "Downloading TS32_20231128_smoothed_signal.npy\n",
      "Downloading TS32_20231128_restructured_data.pkl\n",
      "Downloading TS32_20231128_RWN_smoothed_signal.npy\n",
      "Downloading TS32_20231128_RWN_restructured_data.pkl\n",
      "Downloading TS33_20231128_smoothed_signal.npy\n",
      "Downloading TS33_20231128_restructured_data.pkl\n",
      "Downloading TS33_20231128_RWN_smoothed_signal.npy\n",
      "Downloading TS33_20231128_RWN_restructured_data.pkl\n",
      "Downloading TS34_20231128_smoothed_signal.npy\n",
      "Downloading TS34_20231128_restructured_data.pkl\n",
      "Downloading TS34_20231128_RWN_smoothed_signal.npy\n",
      "Downloading TS34_20231128_RWN_restructured_data.pkl\n"
     ]
    },
    {
     "data": {
      "image/png": "[encoded data removed]",
      "text/plain": [
       "<Figure size 600x300 with 2 Axes>"
      ]
     },
     "metadata": {},
     "output_type": "display_data"
    }
   ],
   "source": [
    "# load mouse data from zenodo and run basic analysis of the CoT session\n",
    "\n",
    "x_range = [-2, 3]\n",
    "y_range = [-0.75, 1.5]\n",
    "nr_mice = len(info['AnimalID'].unique())\n",
    "for m, mouse in enumerate(info['AnimalID']):\n",
    "    date = str(info[info['AnimalID']==mouse]['Date'].values[0])\n",
    "    fiber_side = info[info['AnimalID']==mouse]['fiber_side'].values[0]\n",
    "    protocol = info[info['AnimalID']==mouse]['protocol1'].values[0]\n",
    "    dataset_names = []\n",
    "    # CoT session\n",
    "    CoT_trial_data = mouse + '_' + date + '_restructured_data.pkl'\n",
    "    CoT_photo_data = mouse + '_' + date + '_smoothed_signal.npy' \n",
    "    # RTC session \n",
    "    RWN_trial_data = mouse + '_' + date + '_RWN_restructured_data.pkl'\n",
    "    RWN_photo_data = mouse + '_' + date + '_RWN_smoothed_signal.npy' \n",
    "    dataset_names.extend([CoT_photo_data,CoT_trial_data, RWN_photo_data, RWN_trial_data])\n",
    "\n",
    "\n",
    "    for i, dataset_name in enumerate(dataset_names):\n",
    "        url = zenodo + dataset_name\n",
    "        dataset_path = '../../data/' + dataset_name\n",
    "        \n",
    "        if not exists(dataset_path):\n",
    "            print('Downloading ' + dataset_name)\n",
    "            urllib.request.urlretrieve(url, dataset_path)\n",
    "        #else:\n",
    "        #   print(dataset_name + ' already in directory')\n",
    "\n",
    "        \n",
    "        \n",
    "        if i == 0:\n",
    "            photometry_data = np.load(dataset_path)  \n",
    "            \n",
    "        if i == 1:  \n",
    "            trial_data = pd.read_pickle(dataset_path)\n",
    "            session_traces = yj_utils.SessionData(mouse, date, fiber_side, protocol, trial_data, photometry_data)\n",
    "            file_name = mouse + '_' + date + '_aligned_traces.p'\n",
    "            dataset_path = '../../data/' + file_name           \n",
    "            pickle.dump(session_traces, open(dataset_path, \"wb\"))\n",
    "        if i == 2: \n",
    "            RWN_photometry_data = np.load(dataset_path)    \n",
    "            \n",
    "        if i == 3:\n",
    "            RWN_trial_data = pd.read_pickle(dataset_path)\n",
    "            RWN_data = yj_utils.ZScoredTraces_RTC(RWN_trial_data, RWN_photometry_data, x_range)\n",
    "\n",
    "            APE_aligned_data = decimate(session_traces.choice.contra_data.mean_trace, 10)\n",
    "            APE_time = decimate(session_traces.choice.contra_data.time_points,10)\n",
    "            APE_sem_traces = decimate(session_traces.choice.contra_data.sorted_traces,10)\n",
    "            RWN_aligned_data = decimate(RWN_data.mean_trace, 10)\n",
    "            RWN_time = decimate(RWN_data.time_points, 10)\n",
    "\n",
    "            if m == 0:\n",
    "                APE_traces = np.zeros((nr_mice, len(APE_aligned_data)))\n",
    "                RWN_traces = np.zeros((nr_mice, len(RWN_aligned_data)))\n",
    "                APE_sem_traces_upper = np.zeros((nr_mice, len(APE_aligned_data)))\n",
    "                APE_sem_traces_lower = np.zeros((nr_mice, len(APE_aligned_data)))\n",
    "                RWN_sem_traces_upper = np.zeros((nr_mice, len(RWN_aligned_data)))\n",
    "                RWN_sem_traces_lower = np.zeros((nr_mice, len(RWN_aligned_data)))\n",
    "                APE_peak_values = []\n",
    "                RWN_peak_values = []\n",
    "\n",
    "            APE_traces[m,:] = APE_aligned_data\n",
    "    \n",
    "            RWN_traces[m,:] = RWN_aligned_data\n",
    "\n",
    "            # get the peak values:   # APE_time: 16000 datapoints, half: 8000 datapoints = time 0, only consider time after 0\n",
    "            start_inx = 8000\n",
    "            APE_range = APE_aligned_data[start_inx:start_inx+8000]\n",
    "            APE_time_range = APE_time[start_inx:start_inx+8000]\n",
    "            RWN_range = RWN_aligned_data[start_inx:start_inx+8000]\n",
    "\n",
    "            APE_peak_index = np.argmax(APE_range) # from time 0 to 8s\n",
    "            APE_peak_time = APE_time_range[APE_peak_index]\n",
    "            APE_peak_value = APE_range[APE_peak_index]\n",
    "            RWN_peak_value = RWN_range[APE_peak_index]\n",
    "            APE_peak_values.append(APE_peak_value)\n",
    "            RWN_peak_values.append(RWN_peak_value)\n",
    "\n",
    "# calculate mean and sem across mice:\n",
    "APE_mean_trace = np.mean(APE_traces, axis=0)\n",
    "RWN_mean_trace = np.mean(RWN_traces, axis=0)\n",
    "APE_sem_trace = np.std(APE_traces, axis=0)/np.sqrt(nr_mice)\n",
    "RWN_sem_trace = np.std(RWN_traces, axis=0)/np.sqrt(nr_mice)\n",
    "\n",
    "figure = yj_plot.plot_ED5VW(APE_mean_trace, RWN_mean_trace, APE_sem_trace, RWN_sem_trace, APE_peak_values, RWN_peak_values, APE_time, RWN_time)\n",
    "\n",
    "# uncomment here to save the plot\n",
    "#dataset_path = '../../data/'\n",
    "#plt.savefig(dataset_path + 'ED5XY.png',\n",
    "#            transparent=True, bbox_inches='tight')"
   ]
  },
  {
   "cell_type": "code",
   "execution_count": null,
   "id": "66f7ab61-ca1e-4a16-a79c-d5b5a61a9fff",
   "metadata": {},
   "outputs": [],
   "source": []
  }
 ],
 "metadata": {
  "kernelspec": {
   "display_name": "Python 3 (ipykernel)",
   "language": "python",
   "name": "python3"
  },
  "language_info": {
   "codemirror_mode": {
    "name": "ipython",
    "version": 3
   },
   "file_extension": ".py",
   "mimetype": "text/x-python",
   "name": "python",
   "nbconvert_exporter": "python",
   "pygments_lexer": "ipython3",
   "version": "3.9.18"
  }
 },
 "nbformat": 4,
 "nbformat_minor": 5
}
